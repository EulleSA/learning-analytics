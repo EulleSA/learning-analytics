{
 "cells": [
  {
   "cell_type": "code",
   "execution_count": 37,
   "metadata": {
    "collapsed": true
   },
   "outputs": [],
   "source": [
    "import pandas as pd\n",
    "import numpy as np\n",
    "import matplotlib.pyplot as plt"
   ]
  },
  {
   "cell_type": "code",
   "execution_count": 52,
   "metadata": {},
   "outputs": [],
   "source": [
    "df = pd.read_csv('produtos-de-extensao.csv', sep=';', error_bad_lines=False)\n",
    "\n",
    "dp = df[df['tproduto']=='ARTIGO']\n",
    "count_artigo = len(dp)\n",
    "\n",
    "dp2 = df[df['tproduto']=='REVISTA']\n",
    "count_revista = len(dp2)\n",
    "\n",
    "dp3 = df[df['tproduto']=='RELATÓRIO TÉCNICO']\n",
    "count_RT = len(dp3)\n",
    "\n",
    "dp4 = df[df['tproduto']=='LIVRO']\n",
    "count_livro = len(dp4)\n",
    "\n",
    "dp5 = df[df['tproduto']=='COMUNICAÇÃO']\n",
    "count_Com = len(dp5)\n",
    "\n",
    "dp6 = df[df['tproduto']=='CARTILHA']\n",
    "count_cartilha = len(dp6)\n",
    "\n",
    "dp7 = df[df['tproduto']=='MANUAL']\n",
    "count_manual = len(dp7)\n",
    "\n",
    "dp8 = df[df['tproduto']=='PRODUTO AUDIOVISUAL - VÍDEO']\n",
    "count_PAv = len(dp8)\n",
    "\n",
    "dp82 = df[df['tproduto']=='PRODUTO AUDIOVISUAL - FILME']\n",
    "count_PAf = len(dp82)\n",
    "\n",
    "dp83 = df[df['tproduto']=='PRODUTO AUDIOVISUAL - CD']\n",
    "count_PAcd = len(dp83)\n",
    "\n",
    "dp84 = df[df['tproduto']=='PRODUTO AUDIOVISUAL - DVD']\n",
    "count_PAdvd = len(dp84)\n",
    "\n",
    "dp9 = df[df['tproduto']=='PROGRAMA DE TV']\n",
    "count_PTV = len(dp9)\n",
    "\n",
    "dp10 = df[df['tproduto']=='PRODUTO ARTÍSTICO']\n",
    "count_PArt = len(dp10)\n",
    "\n",
    "dp11=df[df['tproduto']=='JORNAL']\n",
    "count_j = len(dp11)\n",
    "\n",
    "dp12 = dp11=df[df['tproduto']=='OUTROS']\n",
    "count_outros = len(dp12)"
   ]
  },
  {
   "cell_type": "code",
   "execution_count": 53,
   "metadata": {},
   "outputs": [],
   "source": [
    "pop = {\"ARTIGO\": count_artigo , \"REVISTA\": count_revista, \"RELATÓRIO TÉCNICO\": count_RT, \"LIVRO\": count_livro\n",
    "       , \"COMUNICAÇÃO\": count_Com, \"CARTILHA\" : count_cartilha , \"MANUAL\" : count_manual , \"PROGRAMA AUDIOVISUAL - VÍDEO\" : count_PAv,\n",
    "        \"PROGRAMA AUDIOVISUAL - FILME\" : count_PAf,\"PROGRAMA AUDIOVISUAL - DVD\" : count_PAdvd,\"PROGRAMA AUDIOVISUAL - CD\" : count_PAcd ,\"PROGRAMA DE TV\" : count_PTV , \"PRODUTO ARTÍSTICO\":count_PArt , \"JORNAL\":count_j , \"OUTROS\":count_outros}\n",
    "\n",
    "tp_produto = [i for i in pop.keys()]\n",
    "\n",
    "qt_produto= [j for j in pop.values()]\n",
    "\n",
    "popPos = np.arange(len(tp_produto))\n",
    "\n",
    "azul = \"green\"\n"
   ]
  },
  {
   "cell_type": "code",
   "execution_count": 54,
   "metadata": {},
   "outputs": [
    {
     "data": {
      "image/png": "[encoded data removed]",
      "text/plain": [
       "<matplotlib.figure.Figure at 0x7f97ef13ad68>"
      ]
     },
     "metadata": {},
     "output_type": "display_data"
    }
   ],
   "source": [
    "plt.barh(popPos, qt_produto, align='center', color=azul)             \n",
    "plt.yticks(popPos, tp_produto)   \n",
    "plt.xlabel('quantidade de projetos concluídos')    \n",
    "plt.title('Produtos de extensão da UFRN')\n",
    "plt.show()\n"
   ]
  },
  {
   "cell_type": "code",
   "execution_count": null,
   "metadata": {
    "collapsed": true
   },
   "outputs": [],
   "source": []
  }
 ],
 "metadata": {
  "kernelspec": {
   "display_name": "Python 3",
   "language": "python",
   "name": "python3"
  },
  "language_info": {
   "codemirror_mode": {
    "name": "ipython",
    "version": 3
   },
   "file_extension": ".py",
   "mimetype": "text/x-python",
   "name": "python",
   "nbconvert_exporter": "python",
   "pygments_lexer": "ipython3",
   "version": "3.6.1"
  }
 },
 "nbformat": 4,
 "nbformat_minor": 2
}
